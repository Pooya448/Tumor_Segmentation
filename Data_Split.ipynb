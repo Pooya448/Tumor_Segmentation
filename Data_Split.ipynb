{
  "nbformat": 4,
  "nbformat_minor": 0,
  "metadata": {
    "colab": {
      "name": "Data_Split.ipynb",
      "provenance": [],
      "collapsed_sections": [],
      "mount_file_id": "1aUFgkzVPiqOCwSGSI8SSLBY2HZlkNOOM",
      "authorship_tag": "ABX9TyPgoxR00t7fb3dg9PHK43NX",
      "include_colab_link": true
    },
    "kernelspec": {
      "name": "python3",
      "display_name": "Python 3"
    }
  },
  "cells": [
    {
      "cell_type": "markdown",
      "metadata": {
        "id": "view-in-github",
        "colab_type": "text"
      },
      "source": [
        "<a href=\"https://colab.research.google.com/github/Pooya448/Tumor_Segmentation/blob/main/Data_Split.ipynb\" target=\"_parent\"><img src=\"https://colab.research.google.com/assets/colab-badge.svg\" alt=\"Open In Colab\"/></a>"
      ]
    },
    {
      "cell_type": "code",
      "metadata": {
        "id": "MMUziNU0TPL7"
      },
      "source": [
        "!rm -rf /content/sample_data\n",
        "!pip install -U --no-cache-dir gdown --pre"
      ],
      "execution_count": null,
      "outputs": []
    },
    {
      "cell_type": "code",
      "metadata": {
        "id": "w34Kl_oGDrcx",
        "outputId": "a119da70-8c4f-4f89-a3f4-d4fc0a9abee4",
        "colab": {
          "base_uri": "https://localhost:8080/"
        }
      },
      "source": [
        "!gdown --id 1pIV4kpwTSZaH4W2VRKCkXEtMSP9Ct22g"
      ],
      "execution_count": 2,
      "outputs": [
        {
          "output_type": "stream",
          "text": [
            "Downloading...\n",
            "From: https://drive.google.com/uc?id=1pIV4kpwTSZaH4W2VRKCkXEtMSP9Ct22g\n",
            "To: /content/patch_data_full.tar.gz\n",
            "14.4GB [01:53, 127MB/s] \n"
          ],
          "name": "stdout"
        }
      ]
    },
    {
      "cell_type": "code",
      "metadata": {
        "id": "-umVNiWqh7tF"
      },
      "source": [
        "print('Download complete, Now extracting...')\n",
        "!tar xvf /content/patch_data_full.tar.gz"
      ],
      "execution_count": null,
      "outputs": []
    },
    {
      "cell_type": "code",
      "metadata": {
        "id": "DAuMRQ9AFD4A",
        "outputId": "d015d127-5933-47ac-ca02-a37f8e38061e",
        "colab": {
          "base_uri": "https://localhost:8080/"
        }
      },
      "source": [
        "print('Extract Complete')"
      ],
      "execution_count": 4,
      "outputs": [
        {
          "output_type": "stream",
          "text": [
            "Extract Complete\n"
          ],
          "name": "stdout"
        }
      ]
    },
    {
      "cell_type": "code",
      "metadata": {
        "id": "2BmiSBcrFJCa",
        "outputId": "02441bb4-6f01-41cd-c99c-fe71113fcdff",
        "colab": {
          "base_uri": "https://localhost:8080/"
        }
      },
      "source": [
        "import os\n",
        "import numpy as np\n",
        "\n",
        "normals = []\n",
        "abnormals = []\n",
        "total = os.listdir('/content/complete_dataset_no_duplicate')\n",
        "for filename in total:\n",
        "    if 'normal' in filename:\n",
        "        normals.append(filename)\n",
        "    else:\n",
        "        abnormals.append(filename)\n",
        "\n",
        "np.random.shuffle(normals)\n",
        "np.random.shuffle(abnormals)\n",
        "\n",
        "n_normal = len(normals)\n",
        "n_abnormal = len(abnormals)\n",
        "\n",
        "print('Total normal patients: ', n_normal)\n",
        "print('Total abnormal patients: ', n_abnormal)\n",
        "\n",
        "n = n_normal + n_abnormal\n",
        "print('Total patients: ', n)"
      ],
      "execution_count": 5,
      "outputs": [
        {
          "output_type": "stream",
          "text": [
            "Total normal patients:  159\n",
            "Total abnormal patients:  111\n",
            "Total patients:  270\n"
          ],
          "name": "stdout"
        }
      ]
    },
    {
      "cell_type": "code",
      "metadata": {
        "id": "7Eg-0L2aKJI7",
        "outputId": "1d1aa8ea-304f-4eb8-fe84-ee566b3792f5",
        "colab": {
          "base_uri": "https://localhost:8080/"
        }
      },
      "source": [
        "ratio = {'train':0.6, 'test':0.2, 'dev':0.2}\n",
        "\n",
        "data = {}\n",
        "\n",
        "last_index_n = 0\n",
        "last_index_ab = 0\n",
        "\n",
        "train_n_abnormal =  int(np.ceil(ratio['train'] * n_abnormal))\n",
        "train_n_normal =  int(np.ceil(ratio['train'] * n_normal))\n",
        "\n",
        "train_set = normals[last_index_n : train_n_normal] + abnormals[last_index_ab : train_n_abnormal]\n",
        "np.random.shuffle(train_set)\n",
        "data['train'] = train_set\n",
        "last_index_n += train_n_normal\n",
        "last_index_ab += train_n_abnormal\n",
        "\n",
        "test_n_abnormal =  int(np.ceil(ratio['test'] * n_abnormal))\n",
        "test_n_normal =  int(np.ceil(ratio['test'] * n_normal))\n",
        "\n",
        "test_set = normals[last_index_n : last_index_n + test_n_normal] + abnormals[last_index_ab  : last_index_ab + test_n_abnormal]\n",
        "np.random.shuffle(test_set)\n",
        "data['test'] = test_set\n",
        "last_index_n += test_n_normal\n",
        "last_index_ab += test_n_abnormal\n",
        "\n",
        "dev_set = normals[last_index_n:] + abnormals[last_index_ab:]\n",
        "np.random.shuffle(dev_set)\n",
        "data['dev'] = dev_set\n",
        "\n",
        "print('Total: ', n)\n",
        "print('Train: ', len(data['train']))\n",
        "print('Test:', len(data['test']))\n",
        "print('Dev:', len(data['dev']))\n",
        "\n",
        "### Integrity check\n",
        "sum = []\n",
        "for _, value in data.items():\n",
        "    sum += (value)\n",
        "\n",
        "intersection_1 = len(list(set(data['train']) & set(data['test'])))\n",
        "intersection_2 = len(list(set(data['train']) & set(data['dev'])))\n",
        "intersection_3 = len(list(set(data['test']) & set(data['dev'])))\n",
        "\n",
        "duplicate_train = len(list(set(data['train']))) == len(data['train'])\n",
        "duplicate_test = len(list(set(data['test']))) == len(data['test'])\n",
        "duplicate_dev = len(list(set(data['dev']))) == len(data['dev'])\n",
        "\n",
        "if set(sum) == set(total) and intersection_1 == 0 and intersection_2 == 0 and intersection_3 == 0 and duplicate_test and duplicate_train and duplicate_dev:\n",
        "    print('\\nIntegrity check: OK')\n",
        "    print('Train + Test + Dev == Total : ', n == (len(data['train']) + len(data['test']) + len(data['dev'])))\n",
        "else:\n",
        "    print('\\nIntegrity check: Fail')"
      ],
      "execution_count": 6,
      "outputs": [
        {
          "output_type": "stream",
          "text": [
            "Total:  270\n",
            "Train:  163\n",
            "Test: 55\n",
            "Dev: 52\n",
            "\n",
            "Integrity check: OK\n",
            "Train + Test + Dev == Total :  True\n"
          ],
          "name": "stdout"
        }
      ]
    },
    {
      "cell_type": "code",
      "metadata": {
        "id": "iKGw_RrayG-0",
        "outputId": "f1496cee-502c-4c35-f331-c569382ee04f",
        "colab": {
          "base_uri": "https://localhost:8080/"
        }
      },
      "source": [
        "from shutil import copy2\n",
        "\n",
        "target_dir = '/content/Data/'\n",
        "parent_dir = '/content/complete_dataset_no_duplicate/'\n",
        "\n",
        "file_counter = 0\n",
        "data_y = {}\n",
        "\n",
        "for key, value in data.items():\n",
        "    data_y[key] = {}\n",
        "    target_path = os.path.join(target_dir, key)\n",
        "    os.makedirs(target_path, exist_ok = True)\n",
        "    for folder in value:\n",
        "        for subfolder in os.listdir(parent_dir + folder + '/'):\n",
        "            for filename in os.listdir(parent_dir + folder + '/' + subfolder + '/'):\n",
        "                if 'normal' in filename:\n",
        "                    data_y[key][str(file_counter)] = 0\n",
        "                elif 'tumor' in filename:\n",
        "                    data_y[key][str(file_counter)] = 1\n",
        "                src = os.path.join(parent_dir, folder, subfolder, filename)\n",
        "                dst = os.path.join(target_path, str(file_counter) +'.jpg')\n",
        "                copy2(src, dst)\n",
        "                file_counter += 1\n",
        "    print('Total', key, 'examples: ', file_counter)\n",
        "    file_counter = 0\n",
        "\n",
        "print('Copy Complete')"
      ],
      "execution_count": 7,
      "outputs": [
        {
          "output_type": "stream",
          "text": [
            "Total train examples:  304810\n",
            "Total test examples:  106891\n",
            "Total dev examples:  99076\n",
            "Copy Complete\n"
          ],
          "name": "stdout"
        }
      ]
    },
    {
      "cell_type": "code",
      "metadata": {
        "id": "hEi6s317wsvu",
        "outputId": "314a3eed-9f58-4276-dfd7-a4de9b5ba846",
        "colab": {
          "base_uri": "https://localhost:8080/"
        }
      },
      "source": [
        "print(len(data_y['train']))\n",
        "print(len(data_y['test']))\n",
        "print(len(data_y['dev']))"
      ],
      "execution_count": 8,
      "outputs": [
        {
          "output_type": "stream",
          "text": [
            "304810\n",
            "106891\n",
            "99076\n"
          ],
          "name": "stdout"
        }
      ]
    },
    {
      "cell_type": "code",
      "metadata": {
        "id": "Utw4SRxAqgFW"
      },
      "source": [
        "import json\n",
        "with open(\"labels.json\", \"w\") as outfile:  \n",
        "    json.dump(data_y, outfile)"
      ],
      "execution_count": 9,
      "outputs": []
    },
    {
      "cell_type": "code",
      "metadata": {
        "id": "A0wmcHmwQj4g",
        "outputId": "2c276636-0a8d-4172-e439-286dd21baa41",
        "colab": {
          "base_uri": "https://localhost:8080/"
        }
      },
      "source": [
        "import subprocess\n",
        "for folder in os.listdir(target_dir):\n",
        "    path = os.path.join(target_dir, folder)\n",
        "    zip_name = folder + '_patch_data'\n",
        "    subprocess.call(['zip', '-r', zip_name, path])\n",
        "    print(zip_name + '.zip created.')"
      ],
      "execution_count": 10,
      "outputs": [
        {
          "output_type": "stream",
          "text": [
            "train_patch_data.zip created.\n",
            "test_patch_data.zip created.\n",
            "dev_patch_data.zip created.\n"
          ],
          "name": "stdout"
        }
      ]
    },
    {
      "cell_type": "code",
      "metadata": {
        "id": "G-Alkq-RRnO5"
      },
      "source": [
        "!cp /content/labels.json '/content/drive/My Drive/IVILAB Data/'"
      ],
      "execution_count": 11,
      "outputs": []
    },
    {
      "cell_type": "code",
      "metadata": {
        "id": "8NviLbNYzxRz"
      },
      "source": [
        "!cp /content/test_patch_data.zip '/content/drive/My Drive/IVILAB Data/'"
      ],
      "execution_count": 12,
      "outputs": []
    },
    {
      "cell_type": "code",
      "metadata": {
        "id": "bg6LPCL0z8o1"
      },
      "source": [
        "!cp /content/dev_patch_data.zip '/content/drive/My Drive/IVILAB Data/'"
      ],
      "execution_count": 13,
      "outputs": []
    },
    {
      "cell_type": "code",
      "metadata": {
        "id": "Ucln9Bqaz9GP"
      },
      "source": [
        "!cp /content/train_patch_data.zip '/content/drive/My Drive/IVILAB Data/'"
      ],
      "execution_count": 14,
      "outputs": []
    },
    {
      "cell_type": "code",
      "metadata": {
        "id": "2iBo4EmBsiTY"
      },
      "source": [
        ""
      ],
      "execution_count": null,
      "outputs": []
    }
  ]
}